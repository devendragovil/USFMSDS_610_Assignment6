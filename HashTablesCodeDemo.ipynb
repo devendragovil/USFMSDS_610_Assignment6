{
 "cells": [
  {
   "cell_type": "code",
   "execution_count": 4,
   "metadata": {},
   "outputs": [],
   "source": [
    "import pandas as pd\n",
    "import numpy as np\n",
    "import matplotlib.pyplot as plt\n",
    "from matplotlib.widgets import Slider, Button\n",
    "import random\n",
    "import time\n",
    "from math import ceil\n",
    "import timeit\n",
    "import pickle\n",
    "import ipywidgets as widgets\n",
    "%config InlineBackend.figure_format='retina'"
   ]
  },
  {
   "cell_type": "markdown",
   "metadata": {},
   "source": [
    "# Summarization and Review\n",
    "\n",
    "## What are Hashtables? \n",
    "Hashtables are useful data structures that allow us to quickly organize, sort, and look up data. They are made up of 4 important things. \n",
    "- key\n",
    "- value\n",
    "- bins\n",
    "- hash function which is used to generate bins\n",
    "\n",
    "## Why do we need it?\n",
    "\n",
    "In data science, we always come across large data sets and parsing through the data can be a cubersome task when we're searching for something we don't know the location of. The most simplistic way to search for a value in a list of values would be to iterate through it and stop once we find it. With hashtables we can speed up the process and make our lives much easier"
   ]
  },
  {
   "cell_type": "markdown",
   "metadata": {},
   "source": [
    "## Main Takeaways from today's Session"
   ]
  },
  {
   "cell_type": "markdown",
   "metadata": {},
   "source": [
    "- Implementation of Linear Search and Hash Tables\n",
    "- Compare Run times for both\n",
    "- Look at trends in run times for different bucket sizes vis-a-vis linear search"
   ]
  },
  {
   "cell_type": "markdown",
   "metadata": {},
   "source": [
    "***"
   ]
  },
  {
   "cell_type": "markdown",
   "metadata": {},
   "source": [
    "# Problem Statement\n",
    "\n",
    "Let us revisit our previous scenario. Last week we talked about being in a library and wanting to find books by our favorite author George RR Martin. If we were to go in order and look for each one by one, it would take us forever to find it. By organizing the books into categories, such as the first letter of the authors last name, we can darastically cutdown our search time. This real life model is very similar to a table."
   ]
  },
  {
   "cell_type": "markdown",
   "metadata": {},
   "source": [
    "## Data Cleaning and Preparation \n",
    "\n",
    "__to be hidden__"
   ]
  },
  {
   "cell_type": "code",
   "execution_count": 2,
   "metadata": {},
   "outputs": [
    {
     "name": "stderr",
     "output_type": "stream",
     "text": [
      "/var/folders/ms/2ygwp03d4b5526gc0h51spqh0000gn/T/ipykernel_37603/1882401788.py:1: DtypeWarning: Columns (3) have mixed types. Specify dtype option on import or set low_memory=False.\n",
      "  df_books =pd.read_csv('./resources/books.csv',encoding='ISO-8859-1',on_bad_lines='skip',delimiter=';')\n"
     ]
    }
   ],
   "source": [
    "df_books =pd.read_csv('./resources/books.csv',encoding='ISO-8859-1',on_bad_lines='skip',delimiter=';')"
   ]
  },
  {
   "cell_type": "code",
   "execution_count": 3,
   "metadata": {},
   "outputs": [
    {
     "data": {
      "text/html": [
       "<div>\n",
       "<style scoped>\n",
       "    .dataframe tbody tr th:only-of-type {\n",
       "        vertical-align: middle;\n",
       "    }\n",
       "\n",
       "    .dataframe tbody tr th {\n",
       "        vertical-align: top;\n",
       "    }\n",
       "\n",
       "    .dataframe thead th {\n",
       "        text-align: right;\n",
       "    }\n",
       "</style>\n",
       "<table border=\"1\" class=\"dataframe\">\n",
       "  <thead>\n",
       "    <tr style=\"text-align: right;\">\n",
       "      <th></th>\n",
       "      <th>ISBN</th>\n",
       "      <th>Book-Title</th>\n",
       "      <th>Book-Author</th>\n",
       "      <th>Year-Of-Publication</th>\n",
       "      <th>Publisher</th>\n",
       "      <th>Image-URL-S</th>\n",
       "      <th>Image-URL-M</th>\n",
       "      <th>Image-URL-L</th>\n",
       "    </tr>\n",
       "  </thead>\n",
       "  <tbody>\n",
       "    <tr>\n",
       "      <th>0</th>\n",
       "      <td>0195153448</td>\n",
       "      <td>Classical Mythology</td>\n",
       "      <td>Mark P. O. Morford</td>\n",
       "      <td>2002</td>\n",
       "      <td>Oxford University Press</td>\n",
       "      <td>http://images.amazon.com/images/P/0195153448.0...</td>\n",
       "      <td>http://images.amazon.com/images/P/0195153448.0...</td>\n",
       "      <td>http://images.amazon.com/images/P/0195153448.0...</td>\n",
       "    </tr>\n",
       "    <tr>\n",
       "      <th>1</th>\n",
       "      <td>0002005018</td>\n",
       "      <td>Clara Callan</td>\n",
       "      <td>Richard Bruce Wright</td>\n",
       "      <td>2001</td>\n",
       "      <td>HarperFlamingo Canada</td>\n",
       "      <td>http://images.amazon.com/images/P/0002005018.0...</td>\n",
       "      <td>http://images.amazon.com/images/P/0002005018.0...</td>\n",
       "      <td>http://images.amazon.com/images/P/0002005018.0...</td>\n",
       "    </tr>\n",
       "    <tr>\n",
       "      <th>2</th>\n",
       "      <td>0060973129</td>\n",
       "      <td>Decision in Normandy</td>\n",
       "      <td>Carlo D'Este</td>\n",
       "      <td>1991</td>\n",
       "      <td>HarperPerennial</td>\n",
       "      <td>http://images.amazon.com/images/P/0060973129.0...</td>\n",
       "      <td>http://images.amazon.com/images/P/0060973129.0...</td>\n",
       "      <td>http://images.amazon.com/images/P/0060973129.0...</td>\n",
       "    </tr>\n",
       "    <tr>\n",
       "      <th>3</th>\n",
       "      <td>0374157065</td>\n",
       "      <td>Flu: The Story of the Great Influenza Pandemic...</td>\n",
       "      <td>Gina Bari Kolata</td>\n",
       "      <td>1999</td>\n",
       "      <td>Farrar Straus Giroux</td>\n",
       "      <td>http://images.amazon.com/images/P/0374157065.0...</td>\n",
       "      <td>http://images.amazon.com/images/P/0374157065.0...</td>\n",
       "      <td>http://images.amazon.com/images/P/0374157065.0...</td>\n",
       "    </tr>\n",
       "    <tr>\n",
       "      <th>4</th>\n",
       "      <td>0393045218</td>\n",
       "      <td>The Mummies of Urumchi</td>\n",
       "      <td>E. J. W. Barber</td>\n",
       "      <td>1999</td>\n",
       "      <td>W. W. Norton &amp;amp; Company</td>\n",
       "      <td>http://images.amazon.com/images/P/0393045218.0...</td>\n",
       "      <td>http://images.amazon.com/images/P/0393045218.0...</td>\n",
       "      <td>http://images.amazon.com/images/P/0393045218.0...</td>\n",
       "    </tr>\n",
       "  </tbody>\n",
       "</table>\n",
       "</div>"
      ],
      "text/plain": [
       "         ISBN                                         Book-Title  \\\n",
       "0  0195153448                                Classical Mythology   \n",
       "1  0002005018                                       Clara Callan   \n",
       "2  0060973129                               Decision in Normandy   \n",
       "3  0374157065  Flu: The Story of the Great Influenza Pandemic...   \n",
       "4  0393045218                             The Mummies of Urumchi   \n",
       "\n",
       "            Book-Author Year-Of-Publication                   Publisher  \\\n",
       "0    Mark P. O. Morford                2002     Oxford University Press   \n",
       "1  Richard Bruce Wright                2001       HarperFlamingo Canada   \n",
       "2          Carlo D'Este                1991             HarperPerennial   \n",
       "3      Gina Bari Kolata                1999        Farrar Straus Giroux   \n",
       "4       E. J. W. Barber                1999  W. W. Norton &amp; Company   \n",
       "\n",
       "                                         Image-URL-S  \\\n",
       "0  http://images.amazon.com/images/P/0195153448.0...   \n",
       "1  http://images.amazon.com/images/P/0002005018.0...   \n",
       "2  http://images.amazon.com/images/P/0060973129.0...   \n",
       "3  http://images.amazon.com/images/P/0374157065.0...   \n",
       "4  http://images.amazon.com/images/P/0393045218.0...   \n",
       "\n",
       "                                         Image-URL-M  \\\n",
       "0  http://images.amazon.com/images/P/0195153448.0...   \n",
       "1  http://images.amazon.com/images/P/0002005018.0...   \n",
       "2  http://images.amazon.com/images/P/0060973129.0...   \n",
       "3  http://images.amazon.com/images/P/0374157065.0...   \n",
       "4  http://images.amazon.com/images/P/0393045218.0...   \n",
       "\n",
       "                                         Image-URL-L  \n",
       "0  http://images.amazon.com/images/P/0195153448.0...  \n",
       "1  http://images.amazon.com/images/P/0002005018.0...  \n",
       "2  http://images.amazon.com/images/P/0060973129.0...  \n",
       "3  http://images.amazon.com/images/P/0374157065.0...  \n",
       "4  http://images.amazon.com/images/P/0393045218.0...  "
      ]
     },
     "execution_count": 3,
     "metadata": {},
     "output_type": "execute_result"
    }
   ],
   "source": [
    "df_books.head()"
   ]
  },
  {
   "cell_type": "code",
   "execution_count": 4,
   "metadata": {},
   "outputs": [],
   "source": [
    "df_books_to_use = df_books[['Book-Title', 'Book-Author']].copy()"
   ]
  },
  {
   "cell_type": "code",
   "execution_count": 5,
   "metadata": {},
   "outputs": [],
   "source": [
    "df_books_to_use['Book-Title']= df_books_to_use['Book-Title'].str.lower()"
   ]
  },
  {
   "cell_type": "code",
   "execution_count": 6,
   "metadata": {},
   "outputs": [],
   "source": [
    "df_books_to_use['Book-Author']= df_books_to_use['Book-Author'].str.lower()"
   ]
  },
  {
   "cell_type": "code",
   "execution_count": 7,
   "metadata": {},
   "outputs": [
    {
     "data": {
      "text/html": [
       "<div>\n",
       "<style scoped>\n",
       "    .dataframe tbody tr th:only-of-type {\n",
       "        vertical-align: middle;\n",
       "    }\n",
       "\n",
       "    .dataframe tbody tr th {\n",
       "        vertical-align: top;\n",
       "    }\n",
       "\n",
       "    .dataframe thead th {\n",
       "        text-align: right;\n",
       "    }\n",
       "</style>\n",
       "<table border=\"1\" class=\"dataframe\">\n",
       "  <thead>\n",
       "    <tr style=\"text-align: right;\">\n",
       "      <th></th>\n",
       "      <th>Book-Title</th>\n",
       "      <th>Book-Author</th>\n",
       "    </tr>\n",
       "  </thead>\n",
       "  <tbody>\n",
       "    <tr>\n",
       "      <th>0</th>\n",
       "      <td>classical mythology</td>\n",
       "      <td>mark p. o. morford</td>\n",
       "    </tr>\n",
       "    <tr>\n",
       "      <th>1</th>\n",
       "      <td>clara callan</td>\n",
       "      <td>richard bruce wright</td>\n",
       "    </tr>\n",
       "    <tr>\n",
       "      <th>2</th>\n",
       "      <td>decision in normandy</td>\n",
       "      <td>carlo d'este</td>\n",
       "    </tr>\n",
       "    <tr>\n",
       "      <th>3</th>\n",
       "      <td>flu: the story of the great influenza pandemic...</td>\n",
       "      <td>gina bari kolata</td>\n",
       "    </tr>\n",
       "    <tr>\n",
       "      <th>4</th>\n",
       "      <td>the mummies of urumchi</td>\n",
       "      <td>e. j. w. barber</td>\n",
       "    </tr>\n",
       "    <tr>\n",
       "      <th>...</th>\n",
       "      <td>...</td>\n",
       "      <td>...</td>\n",
       "    </tr>\n",
       "    <tr>\n",
       "      <th>271355</th>\n",
       "      <td>there's a bat in bunk five</td>\n",
       "      <td>paula danziger</td>\n",
       "    </tr>\n",
       "    <tr>\n",
       "      <th>271356</th>\n",
       "      <td>from one to one hundred</td>\n",
       "      <td>teri sloat</td>\n",
       "    </tr>\n",
       "    <tr>\n",
       "      <th>271357</th>\n",
       "      <td>lily dale : the true story of the town that ta...</td>\n",
       "      <td>christine wicker</td>\n",
       "    </tr>\n",
       "    <tr>\n",
       "      <th>271358</th>\n",
       "      <td>republic (world's classics)</td>\n",
       "      <td>plato</td>\n",
       "    </tr>\n",
       "    <tr>\n",
       "      <th>271359</th>\n",
       "      <td>a guided tour of rene descartes' meditations o...</td>\n",
       "      <td>christopher  biffle</td>\n",
       "    </tr>\n",
       "  </tbody>\n",
       "</table>\n",
       "<p>271360 rows × 2 columns</p>\n",
       "</div>"
      ],
      "text/plain": [
       "                                               Book-Title  \\\n",
       "0                                     classical mythology   \n",
       "1                                            clara callan   \n",
       "2                                    decision in normandy   \n",
       "3       flu: the story of the great influenza pandemic...   \n",
       "4                                  the mummies of urumchi   \n",
       "...                                                   ...   \n",
       "271355                         there's a bat in bunk five   \n",
       "271356                            from one to one hundred   \n",
       "271357  lily dale : the true story of the town that ta...   \n",
       "271358                        republic (world's classics)   \n",
       "271359  a guided tour of rene descartes' meditations o...   \n",
       "\n",
       "                 Book-Author  \n",
       "0         mark p. o. morford  \n",
       "1       richard bruce wright  \n",
       "2               carlo d'este  \n",
       "3           gina bari kolata  \n",
       "4            e. j. w. barber  \n",
       "...                      ...  \n",
       "271355        paula danziger  \n",
       "271356            teri sloat  \n",
       "271357      christine wicker  \n",
       "271358                 plato  \n",
       "271359   christopher  biffle  \n",
       "\n",
       "[271360 rows x 2 columns]"
      ]
     },
     "execution_count": 7,
     "metadata": {},
     "output_type": "execute_result"
    }
   ],
   "source": [
    "df_books_to_use"
   ]
  },
  {
   "cell_type": "code",
   "execution_count": 8,
   "metadata": {},
   "outputs": [
    {
     "data": {
      "text/html": [
       "<div>\n",
       "<style scoped>\n",
       "    .dataframe tbody tr th:only-of-type {\n",
       "        vertical-align: middle;\n",
       "    }\n",
       "\n",
       "    .dataframe tbody tr th {\n",
       "        vertical-align: top;\n",
       "    }\n",
       "\n",
       "    .dataframe thead th {\n",
       "        text-align: right;\n",
       "    }\n",
       "</style>\n",
       "<table border=\"1\" class=\"dataframe\">\n",
       "  <thead>\n",
       "    <tr style=\"text-align: right;\">\n",
       "      <th></th>\n",
       "      <th>Book-Title</th>\n",
       "      <th>Book-Author</th>\n",
       "    </tr>\n",
       "  </thead>\n",
       "  <tbody>\n",
       "    <tr>\n",
       "      <th>4713</th>\n",
       "      <td>a game of thrones (a song of ice and fire, boo...</td>\n",
       "      <td>george r.r. martin</td>\n",
       "    </tr>\n",
       "    <tr>\n",
       "      <th>154334</th>\n",
       "      <td>a game of thrones (a song of ice and fire, boo...</td>\n",
       "      <td>george r. r. martin</td>\n",
       "    </tr>\n",
       "    <tr>\n",
       "      <th>265910</th>\n",
       "      <td>a game of thrones (a song of ice and fire, boo...</td>\n",
       "      <td>george r.r. martin</td>\n",
       "    </tr>\n",
       "  </tbody>\n",
       "</table>\n",
       "</div>"
      ],
      "text/plain": [
       "                                               Book-Title          Book-Author\n",
       "4713    a game of thrones (a song of ice and fire, boo...   george r.r. martin\n",
       "154334  a game of thrones (a song of ice and fire, boo...  george r. r. martin\n",
       "265910  a game of thrones (a song of ice and fire, boo...   george r.r. martin"
      ]
     },
     "execution_count": 8,
     "metadata": {},
     "output_type": "execute_result"
    }
   ],
   "source": [
    "df_books_to_use.loc[df_books_to_use['Book-Title'].str.contains(\"game of throne\", case=False)]"
   ]
  },
  {
   "cell_type": "code",
   "execution_count": 9,
   "metadata": {},
   "outputs": [],
   "source": [
    "df_books_to_use.drop_duplicates(subset=['Book-Title'], inplace=True)"
   ]
  },
  {
   "cell_type": "code",
   "execution_count": 10,
   "metadata": {},
   "outputs": [],
   "source": [
    "df_books_to_use.sort_index(ascending=False, inplace=True)"
   ]
  },
  {
   "cell_type": "code",
   "execution_count": 11,
   "metadata": {},
   "outputs": [],
   "source": [
    "df_books_to_use.reset_index(inplace=True, drop=True)"
   ]
  },
  {
   "cell_type": "code",
   "execution_count": 12,
   "metadata": {},
   "outputs": [
    {
     "data": {
      "text/html": [
       "<div>\n",
       "<style scoped>\n",
       "    .dataframe tbody tr th:only-of-type {\n",
       "        vertical-align: middle;\n",
       "    }\n",
       "\n",
       "    .dataframe tbody tr th {\n",
       "        vertical-align: top;\n",
       "    }\n",
       "\n",
       "    .dataframe thead th {\n",
       "        text-align: right;\n",
       "    }\n",
       "</style>\n",
       "<table border=\"1\" class=\"dataframe\">\n",
       "  <thead>\n",
       "    <tr style=\"text-align: right;\">\n",
       "      <th></th>\n",
       "      <th>Book-Title</th>\n",
       "      <th>Book-Author</th>\n",
       "    </tr>\n",
       "  </thead>\n",
       "  <tbody>\n",
       "    <tr>\n",
       "      <th>234411</th>\n",
       "      <td>a game of thrones (a song of ice and fire, boo...</td>\n",
       "      <td>george r.r. martin</td>\n",
       "    </tr>\n",
       "  </tbody>\n",
       "</table>\n",
       "</div>"
      ],
      "text/plain": [
       "                                               Book-Title         Book-Author\n",
       "234411  a game of thrones (a song of ice and fire, boo...  george r.r. martin"
      ]
     },
     "execution_count": 12,
     "metadata": {},
     "output_type": "execute_result"
    }
   ],
   "source": [
    "df_books_to_use.loc[df_books_to_use['Book-Title'].str.contains(\"game of throne\", case=False)]"
   ]
  },
  {
   "cell_type": "code",
   "execution_count": 13,
   "metadata": {},
   "outputs": [],
   "source": [
    "key_value_list = list(zip(df_books_to_use['Book-Title'], df_books_to_use['Book-Author']))\n",
    "martin_tuple = key_value_list.pop(234411)"
   ]
  },
  {
   "cell_type": "code",
   "execution_count": 14,
   "metadata": {},
   "outputs": [],
   "source": [
    "def generate_key_value_list(major_list, martin_tuple, num_entries=238964):\n",
    "    if num_entries > len(major_list) + 1:\n",
    "        factor = ceil(num_entries / 238964)\n",
    "        new_major_list = major_list * factor\n",
    "        return generate_key_value_list(new_major_list,\n",
    "                                       martin_tuple,\n",
    "                                       num_entries)\n",
    "    else:\n",
    "        list_to_return = random.sample(major_list, num_entries-1)\n",
    "        list_to_return.append(martin_tuple)\n",
    "        return list_to_return"
   ]
  },
  {
   "cell_type": "code",
   "execution_count": 15,
   "metadata": {},
   "outputs": [],
   "source": [
    "def timer_function(func, arg, loops=10):\n",
    "    start = time.time()\n",
    "    for i in range(loops):\n",
    "        func(*arg)\n",
    "    stop = time.time()\n",
    "    # returning time in microseconds\n",
    "    return ((stop-start)*1_000_000)/loops"
   ]
  },
  {
   "cell_type": "code",
   "execution_count": null,
   "metadata": {},
   "outputs": [],
   "source": [
    "all_books_and_authors = generate_key_value_list(key_value_list, martin_tuple, 1_000_000)"
   ]
  },
  {
   "cell_type": "code",
   "execution_count": null,
   "metadata": {},
   "outputs": [],
   "source": [
    "generated_data_sets={}\n",
    "for n in range(100_000,1_100_000, 100_000):\n",
    "    generated_data_sets[n] = generate_key_value_list(key_value_list, martin_tuple, n)\n"
   ]
  },
  {
   "cell_type": "code",
   "execution_count": null,
   "metadata": {},
   "outputs": [],
   "source": [
    "linear_search_time = {}\n",
    "for key in generated_data_sets:\n",
    "    dataset = generated_data_sets[key]\n",
    "    time_value = timer_function(find_in_list,\n",
    "                                [dataset, GAME_OF_THRONES_BOOK], 10)\n",
    "    linear_search_time[key] = time_value"
   ]
  },
  {
   "cell_type": "code",
   "execution_count": null,
   "metadata": {},
   "outputs": [
    {
     "data": {
      "text/plain": [
       "{100000: 12359.404563903809,\n",
       " 200000: 21673.083305358887,\n",
       " 300000: 31597.304344177246,\n",
       " 400000: 45144.98710632324,\n",
       " 500000: 51413.726806640625,\n",
       " 600000: 59999.918937683105,\n",
       " 700000: 70080.99555969238,\n",
       " 800000: 77406.31103515625,\n",
       " 900000: 87173.08044433594,\n",
       " 1000000: 98686.50436401367}"
      ]
     },
     "metadata": {},
     "output_type": "display_data"
    }
   ],
   "source": [
    "linear_search_time "
   ]
  },
  {
   "cell_type": "code",
   "execution_count": null,
   "metadata": {},
   "outputs": [],
   "source": [
    "hashtable_search_time = {}\n",
    "for key in generated_data_sets:\n",
    "    hashtable_search_time[key]={}\n",
    "    for bucket_count in [1,2,3,4,5,8,10,50,100,1000]:\n",
    "        dataset= generated_data_sets[key]\n",
    "        built_hashtable = populate_hashtable(dataset, bucket_count)\n",
    "        time_value = timer_function(find_in_hashtable, [built_hashtable, GAME_OF_THRONES_BOOK], 5)\n",
    "        hashtable_search_time[key][bucket_count] = time_value"
   ]
  },
  {
   "cell_type": "code",
   "execution_count": null,
   "metadata": {},
   "outputs": [
    {
     "data": {
      "text/plain": [
       "{1: 12278.985977172852,\n",
       " 2: 4376.029968261719,\n",
       " 3: 2808.6185455322266,\n",
       " 4: 2112.9608154296875,\n",
       " 5: 1411.7717742919922,\n",
       " 8: 822.0195770263672,\n",
       " 10: 650.0244140625,\n",
       " 50: 134.56344604492188,\n",
       " 100: 73.00376892089844,\n",
       " 1000: 18.167495727539062}"
      ]
     },
     "metadata": {},
     "output_type": "display_data"
    }
   ],
   "source": [
    "hashtable_search_time[100000]"
   ]
  },
  {
   "cell_type": "code",
   "execution_count": null,
   "metadata": {},
   "outputs": [],
   "source": [
    "# saved earlier output of this code below\n",
    "# hashtable_search_time = {}\n",
    "# for key in generated_data_sets:\n",
    "#     hashtable_search_time[key]={}\n",
    "#     for bucket_count in range(1, 3001, 500):\n",
    "#         dataset= generated_data_sets[key]\n",
    "#         built_hashtable = populate_hashtable(dataset, bucket_count)\n",
    "#         time_value = timer_function(find_in_hashtable, [built_hashtable, GAME_OF_THRONES_BOOK], 5)\n",
    "#         hashtable_search_time[key][bucket_count] = time_value\n",
    "\n",
    "# with open('experiments_time_hashfinds_big.pickle','wb') as f:\n",
    "#     pickle.dump(hashtable_search_time, f, protocol=pickle.HIGHEST_PROTOCOL)"
   ]
  },
  {
   "cell_type": "code",
   "execution_count": null,
   "metadata": {},
   "outputs": [],
   "source": [
    "with open('./resources/experiments_time_hashfinds_final.pickle','wb') as f:\n",
    "    pickle.dump(hashtable_search_time, f, protocol=pickle.HIGHEST_PROTOCOL)"
   ]
  },
  {
   "cell_type": "markdown",
   "metadata": {},
   "source": [
    "# List Implementation (Linear Search)\n",
    "\n",
    "Let us simulate the example of searching for a book in the library without any form of organization. "
   ]
  },
  {
   "cell_type": "code",
   "execution_count": 16,
   "metadata": {},
   "outputs": [],
   "source": [
    "def find_in_list(object_list, book_name):\n",
    "    \"\"\"\n",
    "    Find the book_name entry in the object list tuples.\n",
    "    Parameters:\n",
    "        object_list: list[tup[str,str]]\n",
    "        book_name: str\n",
    "    Returns:\n",
    "        Return value is the\n",
    "        ('Book-Title','Book-Author') tuple from the object_list\n",
    "    \"\"\"\n",
    "    book_name = book_name.lower()\n",
    "    for entry in object_list:\n",
    "        if book_name == entry[0]:\n",
    "            return entry\n",
    "    return (0, 0)"
   ]
  },
  {
   "cell_type": "code",
   "execution_count": 60,
   "metadata": {},
   "outputs": [
    {
     "data": {
      "text/plain": [
       "('a game of thrones (a song of ice and fire, book 1)', 'george r.r. martin')"
      ]
     },
     "execution_count": 60,
     "metadata": {},
     "output_type": "execute_result"
    }
   ],
   "source": [
    "all_books_and_authors[-1]"
   ]
  },
  {
   "cell_type": "code",
   "execution_count": 19,
   "metadata": {},
   "outputs": [],
   "source": [
    "GAME_OF_THRONES_BOOK = martin_tuple[0]"
   ]
  },
  {
   "cell_type": "code",
   "execution_count": 20,
   "metadata": {},
   "outputs": [
    {
     "data": {
      "text/plain": [
       "'a game of thrones (a song of ice and fire, book 1)'"
      ]
     },
     "execution_count": 20,
     "metadata": {},
     "output_type": "execute_result"
    }
   ],
   "source": [
    "GAME_OF_THRONES_BOOK"
   ]
  },
  {
   "cell_type": "code",
   "execution_count": 61,
   "metadata": {},
   "outputs": [
    {
     "name": "stdout",
     "output_type": "stream",
     "text": [
      "110 ms ± 3.03 ms per loop (mean ± std. dev. of 7 runs, 10 loops each)\n"
     ]
    }
   ],
   "source": [
    "%%timeit\n",
    "find_in_list(all_books_and_authors, GAME_OF_THRONES_BOOK)"
   ]
  },
  {
   "cell_type": "code",
   "execution_count": 22,
   "metadata": {},
   "outputs": [
    {
     "data": {
      "text/plain": [
       "109642.43752615793"
      ]
     },
     "execution_count": 22,
     "metadata": {},
     "output_type": "execute_result"
    }
   ],
   "source": [
    "timer_function(find_in_list, [all_books_and_authors, GAME_OF_THRONES_BOOK], 7 )"
   ]
  },
  {
   "cell_type": "code",
   "execution_count": null,
   "metadata": {},
   "outputs": [],
   "source": [
    "with open('./resources/linear_search_times_final.pickle', 'wb') as f:\n",
    "    pickle.dump(linear_search_time, f, protocol=pickle.HIGHEST_PROTOCOL)"
   ]
  },
  {
   "cell_type": "code",
   "execution_count": 5,
   "metadata": {},
   "outputs": [],
   "source": [
    "with open('./resources/linear_search_times_final.pickle', 'rb') as f:\n",
    "    linear_search_time = pickle.load(f)"
   ]
  },
  {
   "cell_type": "code",
   "execution_count": 6,
   "metadata": {},
   "outputs": [
    {
     "data": {
      "image/png": "[encoded data removed]",
      "text/plain": [
       "<Figure size 576x360 with 1 Axes>"
      ]
     },
     "metadata": {
      "image/png": {
       "height": 331,
       "width": 519
      },
      "needs_background": "light"
     },
     "output_type": "display_data"
    }
   ],
   "source": [
    "fig, ax = plt.subplots(figsize=(8,5))\n",
    "x = list(linear_search_time)\n",
    "y = linear_search_time.values()\n",
    "xlabel = [str(int(i/1000)) + 'k' for i in x]\n",
    "ax.plot(x,y)\n",
    "ax.set_xticks(x)\n",
    "ax.set_xticklabels(xlabel)\n",
    "\n",
    "ax.set_title('Linear Search')\n",
    "ax.set_xlabel('Size of Data')\n",
    "ax.set_ylabel('Search Time (μs)')\n",
    "\n",
    "plt.show()"
   ]
  },
  {
   "cell_type": "markdown",
   "metadata": {},
   "source": [
    "# Hash Table (Implementation)\n",
    "\n",
    "Now let us implement the hashtable variation of our scenario and see how it compares to the linear search"
   ]
  },
  {
   "cell_type": "code",
   "execution_count": 28,
   "metadata": {},
   "outputs": [],
   "source": [
    "def empty_hashtable(buckets):\n",
    "    \"\"\"\n",
    "    Function takes number of buckets and returns a list of buckets size empty list\n",
    "    Parameters:\n",
    "        buckets: int\n",
    "    Returns:\n",
    "        Return value is list of empty lists.\n",
    "        ReturnValue: list[list[]]\n",
    "    \"\"\"\n",
    "    lol = []\n",
    "    for i in range(buckets):\n",
    "        lol.append([])\n",
    "    return lol"
   ]
  },
  {
   "cell_type": "code",
   "execution_count": 65,
   "metadata": {},
   "outputs": [],
   "source": [
    "def hash_function(key):\n",
    "    \"\"\"\n",
    "    Function takes a key value and returns a hash code value for that key.\n",
    "    Parameters:\n",
    "        key: str\n",
    "    Returns:\n",
    "        ReturnValue: int\n",
    "        Return value is the hash code of the function\n",
    "    \"\"\"\n",
    "    h = 0\n",
    "    key = key.lower()\n",
    "    for a in key:\n",
    "        h = ((h * ord(a))) % 2147483647 + ord(a)\n",
    "        # Dividing to stop the hash code from going excessively\n",
    "        # and arbritrary large\n",
    "        # Dividing by a prime to evenly space the hash code distributions\n",
    "        # Interesting fact: 2147483647 is the 8th Mersenne Prime.\n",
    "        # hash code is returned\n",
    "    return h"
   ]
  },
  {
   "cell_type": "code",
   "execution_count": 66,
   "metadata": {},
   "outputs": [
    {
     "data": {
      "text/plain": [
       "948764657"
      ]
     },
     "execution_count": 66,
     "metadata": {},
     "output_type": "execute_result"
    }
   ],
   "source": [
    "hash_function(GAME_OF_THRONES_BOOK)"
   ]
  },
  {
   "cell_type": "code",
   "execution_count": 67,
   "metadata": {},
   "outputs": [],
   "source": [
    "empty = empty_hashtable(5)"
   ]
  },
  {
   "cell_type": "code",
   "execution_count": 68,
   "metadata": {},
   "outputs": [
    {
     "data": {
      "text/plain": [
       "[[], [], [], [], []]"
      ]
     },
     "execution_count": 68,
     "metadata": {},
     "output_type": "execute_result"
    }
   ],
   "source": [
    "empty"
   ]
  },
  {
   "cell_type": "code",
   "execution_count": 80,
   "metadata": {},
   "outputs": [
    {
     "data": {
      "text/plain": [
       "0"
      ]
     },
     "execution_count": 80,
     "metadata": {},
     "output_type": "execute_result"
    }
   ],
   "source": [
    "hash_function()  % 5"
   ]
  },
  {
   "cell_type": "code",
   "execution_count": 71,
   "metadata": {},
   "outputs": [],
   "source": [
    "empty[0].append(('Rushil','M'))"
   ]
  },
  {
   "cell_type": "code",
   "execution_count": 72,
   "metadata": {},
   "outputs": [
    {
     "data": {
      "text/plain": [
       "[[('Rushil', 'M')], [], [], [], []]"
      ]
     },
     "execution_count": 72,
     "metadata": {},
     "output_type": "execute_result"
    }
   ],
   "source": [
    "empty"
   ]
  },
  {
   "cell_type": "code",
   "execution_count": 32,
   "metadata": {},
   "outputs": [],
   "source": [
    "def populate_hashtable(list_of_tups, buckets):\n",
    "    \"\"\"\n",
    "    Function takes a list of tuples (of two strings, books and authors),\n",
    "    and buckets to populate a hashtable\n",
    "    Parameters:\n",
    "        list_of_tups: list[tup[str,str]]\n",
    "        buckets: int\n",
    "    ReturnValue:\n",
    "        required_ht: list[list[str,str]]\n",
    "    ReturnValue is the populated hashtable of list of lists\n",
    "    \"\"\"\n",
    "    required_ht = empty_hashtable(buckets)\n",
    "    for entry in list_of_tups:\n",
    "        book = entry[0]\n",
    "        author = entry[1]\n",
    "        hashcode_book = hash_function(book)\n",
    "        bucket_book = hashcode_book % buckets\n",
    "        required_ht[bucket_book].append(entry)\n",
    "    return required_ht"
   ]
  },
  {
   "cell_type": "code",
   "execution_count": 73,
   "metadata": {},
   "outputs": [],
   "source": [
    "built_hashtable = populate_hashtable(all_books_and_authors, 10_000)"
   ]
  },
  {
   "cell_type": "code",
   "execution_count": 74,
   "metadata": {},
   "outputs": [],
   "source": [
    "def find_in_hashtable(given_ht, value_to_find):\n",
    "    \"\"\"\n",
    "    Function takes the hashtable and value_to_find as paramter inputs\n",
    "    to look for the value_to_find in the hash\n",
    "    table, return the tuple if it finds it, else return (-1,-1)\n",
    "    Parameters:\n",
    "        given_ht: list[list[str,str]]\n",
    "        value_to_find: str\n",
    "    ReturnValue:\n",
    "        entry: (str,str)\n",
    "            : (-1,-1) if entry in hashtable is not found\n",
    "    \"\"\"\n",
    "    hashcode_tofind = hash_function(value_to_find)\n",
    "    buckets_ht = len(given_ht)\n",
    "    bucket_tofind = hashcode_tofind % buckets_ht\n",
    "    for entry in given_ht[bucket_tofind]:\n",
    "        if entry[0] == value_to_find:\n",
    "            return entry\n",
    "    return (-1, -1)"
   ]
  },
  {
   "cell_type": "code",
   "execution_count": 75,
   "metadata": {},
   "outputs": [
    {
     "data": {
      "text/plain": [
       "('a game of thrones (a song of ice and fire, book 1)', 'george r.r. martin')"
      ]
     },
     "execution_count": 75,
     "metadata": {},
     "output_type": "execute_result"
    }
   ],
   "source": [
    "find_in_hashtable(built_hashtable, GAME_OF_THRONES_BOOK)"
   ]
  },
  {
   "cell_type": "code",
   "execution_count": 76,
   "metadata": {},
   "outputs": [
    {
     "name": "stdout",
     "output_type": "stream",
     "text": [
      "12.1 µs ± 14.1 ns per loop (mean ± std. dev. of 7 runs, 100,000 loops each)\n"
     ]
    }
   ],
   "source": [
    "%%timeit\n",
    "find_in_hashtable(built_hashtable, GAME_OF_THRONES_BOOK)"
   ]
  },
  {
   "cell_type": "code",
   "execution_count": 14,
   "metadata": {
    "scrolled": false
   },
   "outputs": [],
   "source": [
    "with open('./resources/experiments_time_hashfinds_final.pickle','rb') as g:\n",
    "    hashtable_search_time = pickle.Unpickler(g).load()"
   ]
  },
  {
   "cell_type": "code",
   "execution_count": 15,
   "metadata": {
    "scrolled": false
   },
   "outputs": [
    {
     "data": {
      "application/vnd.jupyter.widget-view+json": {
       "model_id": "76475c2771d74abeb846fa6966f86de7",
       "version_major": 2,
       "version_minor": 0
      },
      "text/plain": [
       "VBox(children=(Dropdown(description='Number:', options=(1, 2, 3, 4, 5, 8, 10, 50, 100, 1000), value=1),))"
      ]
     },
     "metadata": {},
     "output_type": "display_data"
    },
    {
     "data": {
      "application/vnd.jupyter.widget-view+json": {
       "model_id": "3e967dbd06354138a08043ed9fc8a9ea",
       "version_major": 2,
       "version_minor": 0
      },
      "text/plain": [
       "Tab(children=(Output(),))"
      ]
     },
     "metadata": {},
     "output_type": "display_data"
    }
   ],
   "source": [
    "max_time = round(hashtable_search_time[1000000][1] * 1.10, -4)\n",
    "\n",
    "list_size = list(hashtable_search_time)\n",
    "bins_ = list(hashtable_search_time[list_size[0]])\n",
    "\n",
    "\n",
    "def hash_plot(bin_size):\n",
    "    \"\"\"Plotting function used to display time\n",
    "    complexity of hashtable using ipywidgets\"\"\"\n",
    "    fig, ax = plt.subplots(figsize=(8, 5))\n",
    "    x = list_size\n",
    "    y = [hashtable_search_time[i][bin_size] for i in list_size]\n",
    "    ax.plot(x, y)\n",
    "    hash_title = 'Hashtable Search with {} bins'.format(bin_size)\n",
    "    ax.set_title(hash_title)\n",
    "    ax.set_ylim(0, max_time)\n",
    "    ax.set_xlabel('Size of Data')\n",
    "    ax.set_ylabel('Search Time (μs)')\n",
    "    plt.show()\n",
    "\n",
    "\n",
    "bin_size = widgets.Dropdown(\n",
    "    options=[1,2,3,4,5,8,10,50,100,1000],\n",
    "    value=1,\n",
    "    description='Number:',\n",
    "    disabled=False,\n",
    ")\n",
    "\n",
    "ui = widgets.VBox([bin_size])\n",
    "out1 = widgets.interactive_output(hash_plot, {'bin_size':bin_size})\n",
    "tab  = widgets.Tab(children = [out1])\n",
    "display(ui,tab)"
   ]
  },
  {
   "cell_type": "markdown",
   "metadata": {},
   "source": [
    "Here we can see that as we increase our bin size, the time taken to find an item in our hashtable decreases significanly. At 1 bin, the hashtable performs very similarly to a linear search, but at a 1000 bins, the improvement in time is incredibly significant. "
   ]
  },
  {
   "cell_type": "code",
   "execution_count": 16,
   "metadata": {
    "scrolled": false
   },
   "outputs": [
    {
     "data": {
      "image/png": "[encoded data removed]",
      "text/plain": [
       "<Figure size 720x432 with 1 Axes>"
      ]
     },
     "metadata": {
      "image/png": {
       "height": 399,
       "width": 631
      },
      "needs_background": "light"
     },
     "output_type": "display_data"
    }
   ],
   "source": [
    "fig, ax = plt.subplots(figsize=(10, 6))\n",
    "\n",
    "linear_x = list(linear_search_time)\n",
    "linear_y = linear_search_time.values()\n",
    "\n",
    "ax.plot(linear_x, linear_y, label='linear search')\n",
    "\n",
    "list_size = list(hashtable_search_time)\n",
    "bins_ = list(hashtable_search_time[list_size[0]])\n",
    "\n",
    "\n",
    "for bucket in bins_:\n",
    "    x = list_size\n",
    "    y = [hashtable_search_time[i][bucket] for i in list_size]\n",
    "    xlabel = [str(int(i / 1000)) + 'k' for i in x]\n",
    "    ax.set_xticks(x)\n",
    "    ax.set_xticklabels(xlabel)\n",
    "    ax.plot(x, y, label=f'{bucket} bins')\n",
    "\n",
    "my_plot_title = \"\"\"Search Time Comparison of\n",
    "Hashtable with Different Bin Sizes vs Linear Search\"\"\"\n",
    "\n",
    "ax.set_title(my_plot_title)\n",
    "ax.set_xlabel('Size of Data')\n",
    "ax.set_ylabel('Search Time (μs)')\n",
    "ax.legend()\n",
    "\n",
    "plt.show()"
   ]
  },
  {
   "cell_type": "markdown",
   "metadata": {},
   "source": [
    "Here is an overall search time comparison of linear search and hashtables. After seeing this improvement, I think it is fair to say that hashtables are definitely worth implementing!"
   ]
  },
  {
   "cell_type": "markdown",
   "metadata": {},
   "source": [
    "# Conclusion\n",
    "\n",
    "To conclude, hashtables are worthwhile data structures to consider when tackling any data science problem. They can be applied to a wide range of problems and will save you a lot of time and effort. You might think it is a lot of trouble to implement when on a smaller scale, but once you start working with bigger and bigger sets of data, you'll realize how useful they really are."
   ]
  }
 ],
 "metadata": {
  "kernelspec": {
   "display_name": "Python 3 (ipykernel)",
   "language": "python",
   "name": "python3"
  },
  "language_info": {
   "codemirror_mode": {
    "name": "ipython",
    "version": 3
   },
   "file_extension": ".py",
   "mimetype": "text/x-python",
   "name": "python",
   "nbconvert_exporter": "python",
   "pygments_lexer": "ipython3",
   "version": "3.9.12"
  },
  "latex_envs": {
   "LaTeX_envs_menu_present": true,
   "autoclose": false,
   "autocomplete": true,
   "bibliofile": "biblio.bib",
   "cite_by": "apalike",
   "current_citInitial": 1,
   "eqLabelWithNumbers": true,
   "eqNumInitial": 1,
   "hotkeys": {
    "equation": "Ctrl-E",
    "itemize": "Ctrl-I"
   },
   "labels_anchors": false,
   "latex_user_defs": false,
   "report_style_numbering": false,
   "user_envs_cfg": false
  },
  "vscode": {
   "interpreter": {
    "hash": "e0c937fdf9ccae87d0c83294b3046bb90558c3dea393d9c359be1166f2ad2fa3"
   }
  }
 },
 "nbformat": 4,
 "nbformat_minor": 2
}
